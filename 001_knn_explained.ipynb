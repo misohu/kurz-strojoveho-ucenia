{
 "cells": [
  {
   "cell_type": "markdown",
   "id": "5f655554-96e7-4b02-b536-89462d53b740",
   "metadata": {},
   "source": [
    "# KNN vysvetlenie"
   ]
  },
  {
   "cell_type": "code",
   "execution_count": 1,
   "id": "07dcb716-874a-4a9b-b718-81b5adbec27d",
   "metadata": {},
   "outputs": [],
   "source": [
    "import pandas as pd\n",
    "import numpy as np\n",
    "import seaborn as sns\n",
    "import matplotlib.pyplot as plt\n",
    "import matplotlib"
   ]
  },
  {
   "cell_type": "code",
   "execution_count": 2,
   "id": "de21413d-49e0-41a1-bd1f-fa1ba10e21d4",
   "metadata": {},
   "outputs": [
    {
     "data": {
      "text/html": [
       "<div>\n",
       "<style scoped>\n",
       "    .dataframe tbody tr th:only-of-type {\n",
       "        vertical-align: middle;\n",
       "    }\n",
       "\n",
       "    .dataframe tbody tr th {\n",
       "        vertical-align: top;\n",
       "    }\n",
       "\n",
       "    .dataframe thead th {\n",
       "        text-align: right;\n",
       "    }\n",
       "</style>\n",
       "<table border=\"1\" class=\"dataframe\">\n",
       "  <thead>\n",
       "    <tr style=\"text-align: right;\">\n",
       "      <th></th>\n",
       "      <th>MonthlyIncome</th>\n",
       "      <th>TotalWorkingYears</th>\n",
       "      <th>Attrition</th>\n",
       "    </tr>\n",
       "    <tr>\n",
       "      <th>EmployeeID</th>\n",
       "      <th></th>\n",
       "      <th></th>\n",
       "      <th></th>\n",
       "    </tr>\n",
       "  </thead>\n",
       "  <tbody>\n",
       "    <tr>\n",
       "      <th>1</th>\n",
       "      <td>131160</td>\n",
       "      <td>1.0</td>\n",
       "      <td>No</td>\n",
       "    </tr>\n",
       "    <tr>\n",
       "      <th>2</th>\n",
       "      <td>41890</td>\n",
       "      <td>6.0</td>\n",
       "      <td>Yes</td>\n",
       "    </tr>\n",
       "    <tr>\n",
       "      <th>3</th>\n",
       "      <td>193280</td>\n",
       "      <td>5.0</td>\n",
       "      <td>No</td>\n",
       "    </tr>\n",
       "    <tr>\n",
       "      <th>4</th>\n",
       "      <td>83210</td>\n",
       "      <td>13.0</td>\n",
       "      <td>No</td>\n",
       "    </tr>\n",
       "    <tr>\n",
       "      <th>5</th>\n",
       "      <td>23420</td>\n",
       "      <td>9.0</td>\n",
       "      <td>No</td>\n",
       "    </tr>\n",
       "    <tr>\n",
       "      <th>...</th>\n",
       "      <td>...</td>\n",
       "      <td>...</td>\n",
       "      <td>...</td>\n",
       "    </tr>\n",
       "    <tr>\n",
       "      <th>196</th>\n",
       "      <td>59930</td>\n",
       "      <td>8.0</td>\n",
       "      <td>Yes</td>\n",
       "    </tr>\n",
       "    <tr>\n",
       "      <th>197</th>\n",
       "      <td>51300</td>\n",
       "      <td>8.0</td>\n",
       "      <td>No</td>\n",
       "    </tr>\n",
       "    <tr>\n",
       "      <th>198</th>\n",
       "      <td>20900</td>\n",
       "      <td>10.0</td>\n",
       "      <td>No</td>\n",
       "    </tr>\n",
       "    <tr>\n",
       "      <th>199</th>\n",
       "      <td>29090</td>\n",
       "      <td>10.0</td>\n",
       "      <td>No</td>\n",
       "    </tr>\n",
       "    <tr>\n",
       "      <th>200</th>\n",
       "      <td>34680</td>\n",
       "      <td>0.0</td>\n",
       "      <td>Yes</td>\n",
       "    </tr>\n",
       "  </tbody>\n",
       "</table>\n",
       "<p>200 rows × 3 columns</p>\n",
       "</div>"
      ],
      "text/plain": [
       "            MonthlyIncome  TotalWorkingYears Attrition\n",
       "EmployeeID                                            \n",
       "1                  131160                1.0        No\n",
       "2                   41890                6.0       Yes\n",
       "3                  193280                5.0        No\n",
       "4                   83210               13.0        No\n",
       "5                   23420                9.0        No\n",
       "...                   ...                ...       ...\n",
       "196                 59930                8.0       Yes\n",
       "197                 51300                8.0        No\n",
       "198                 20900               10.0        No\n",
       "199                 29090               10.0        No\n",
       "200                 34680                0.0       Yes\n",
       "\n",
       "[200 rows x 3 columns]"
      ]
     },
     "execution_count": 2,
     "metadata": {},
     "output_type": "execute_result"
    }
   ],
   "source": [
    "df = pd.read_csv(\"data/general_data.csv\", index_col=\"EmployeeID\")\n",
    "target_df = df.loc[:200, [\"MonthlyIncome\", \"TotalWorkingYears\", \"Attrition\"]]\n",
    "target_df"
   ]
  },
  {
   "cell_type": "code",
   "execution_count": 3,
   "id": "ef3be855-d2e1-4cc1-9a37-7abb1fe5a53a",
   "metadata": {},
   "outputs": [
    {
     "data": {
      "text/plain": [
       "<AxesSubplot:xlabel='MonthlyIncome', ylabel='TotalWorkingYears'>"
      ]
     },
     "execution_count": 3,
     "metadata": {},
     "output_type": "execute_result"
    },
    {
     "data": {
      "image/png": "[encoded data removed]",
      "text/plain": [
       "<Figure size 720x720 with 1 Axes>"
      ]
     },
     "metadata": {
      "needs_background": "light"
     },
     "output_type": "display_data"
    }
   ],
   "source": [
    "plt.figure(figsize=(10, 10))\n",
    "sns.scatterplot(data=target_df, x=\"MonthlyIncome\", y=\"TotalWorkingYears\", hue=\"Attrition\")"
   ]
  },
  {
   "cell_type": "markdown",
   "id": "d688b76c-efbf-4f70-886f-eab293d753b4",
   "metadata": {},
   "source": [
    "## Euclidean distance\n",
    "\n",
    "<img src=\"assets/euclidean_equation.png\" width =\"200\" height=200 />\n",
    "<img src=\"assets/euclid.png\" width =\"500\" height=500 />"
   ]
  },
  {
   "cell_type": "markdown",
   "id": "a8206e1e-ba02-43de-8080-78f2d2c4de41",
   "metadata": {},
   "source": [
    "## Manhattan distance"
   ]
  },
  {
   "cell_type": "markdown",
   "id": "1042d100-d309-4e0b-8fec-5773f4deb8ea",
   "metadata": {},
   "source": [
    "<img src=\"assets/manhathan_vs_euclid.PNG\" width =\"600\" height=600 />\n",
    "$ (\\sum_{i=1}^{n}\\left| x_{i} - y_{i} \\right |) $"
   ]
  },
  {
   "cell_type": "markdown",
   "id": "ef92d13f-ddb1-4145-b64a-4f4ae51a657e",
   "metadata": {},
   "source": [
    "## Minkowski formula\n",
    "$ (\\sum_{i=1}^{n}\\left| x_{i} - y_{i} \\right |^{p})^{\\frac{1}{p}} $\n",
    "\n",
    "p = 1 Manhathan distance\n",
    "\n",
    "p = 2 Euclidean Distance"
   ]
  }
 ],
 "metadata": {
  "kernelspec": {
   "display_name": "classification",
   "language": "python",
   "name": "classification"
  },
  "language_info": {
   "codemirror_mode": {
    "name": "ipython",
    "version": 3
   },
   "file_extension": ".py",
   "mimetype": "text/x-python",
   "name": "python",
   "nbconvert_exporter": "python",
   "pygments_lexer": "ipython3",
   "version": "3.8.6"
  }
 },
 "nbformat": 4,
 "nbformat_minor": 5
}
