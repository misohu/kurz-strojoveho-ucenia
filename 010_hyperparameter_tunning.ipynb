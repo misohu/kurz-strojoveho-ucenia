{
 "cells": [
  {
   "cell_type": "markdown",
   "metadata": {},
   "source": [
    "# Prehľadávanie mriežky\n",
    "Ako nájsť optimálne nastavenie klasifikátoru pri predikcii. V prípade napríklad [KNN](https://scikit-learn.org/stable/modules/generated/sklearn.neighbors.KNeighborsClassifier.html): \n",
    "- Ako zistiť optimálny počet susedov?\n",
    "- Ako zistiť, ktorú dištančnú metriku použiť.\n",
    "\n",
    "Niektoré algoritmi môžu mať až desiatky parametrov na preskúmanie. Ako zistíme, ktoré máme použiť?"
   ]
  },
  {
   "cell_type": "code",
   "execution_count": 1,
   "metadata": {},
   "outputs": [],
   "source": [
    "import pandas as pd\n",
    "\n",
    "from sklearn.neighbors import KNeighborsClassifier\n",
    "from sklearn.model_selection import train_test_split\n",
    "from sklearn.metrics import f1_score, accuracy_score, f1_score, precision_score, recall_score, classification_report, confusion_matrix, plot_confusion_matrix"
   ]
  },
  {
   "cell_type": "code",
   "execution_count": 2,
   "metadata": {},
   "outputs": [],
   "source": [
    "df = pd.read_csv(\"processed_data/numerical.csv\", index_col=\"EmployeeID\")\n",
    "y = df['Attrition_num']\n",
    "X = df[df.columns.difference(['Attrition_num', 'Attrition'])]\n",
    "X_train, X_test, y_train, y_test = train_test_split(X, y, test_size=0.20, random_state=42)"
   ]
  },
  {
   "cell_type": "code",
   "execution_count": 3,
   "metadata": {},
   "outputs": [
    {
     "name": "stdout",
     "output_type": "stream",
     "text": [
      "0.9247434435575826\n",
      "0.8428997937248941\n",
      "0.8428997937248941\n",
      "              precision    recall  f1-score   support\n",
      "\n",
      "           0       0.96      0.96      0.96       755\n",
      "           1       0.73      0.73      0.73       122\n",
      "\n",
      "    accuracy                           0.92       877\n",
      "   macro avg       0.84      0.84      0.84       877\n",
      "weighted avg       0.92      0.92      0.92       877\n",
      "\n"
     ]
    }
   ],
   "source": [
    "neigh = KNeighborsClassifier(n_neighbors=3)\n",
    "neigh.fit(X_train, y_train) \n",
    "y_pred = neigh.predict(X_test)\n",
    "\n",
    "print(f1_score(y_test, y_pred, average='micro'))\n",
    "print(precision_score(y_test, y_pred, average=\"macro\"))\n",
    "print(recall_score(y_test, y_pred, average=\"macro\"))\n",
    "print(classification_report(y_test,y_pred))"
   ]
  },
  {
   "cell_type": "markdown",
   "metadata": {},
   "source": [
    "# Grid search\n",
    "[Dokumentácia](https://scikit-learn.org/stable/modules/generated/sklearn.model_selection.GridSearchCV.html)"
   ]
  },
  {
   "cell_type": "code",
   "execution_count": 4,
   "metadata": {},
   "outputs": [
    {
     "name": "stdout",
     "output_type": "stream",
     "text": [
      "Fitting 3 folds for each of 84 candidates, totalling 252 fits\n"
     ]
    }
   ],
   "source": [
    "from sklearn.model_selection import GridSearchCV\n",
    "\n",
    "model = KNeighborsClassifier()\n",
    "param_dict = { \n",
    "    \"n_neighbors\": list(range(2,30,1)),\n",
    "    \"p\": [1,2,3]    \n",
    "}\n",
    "\n",
    "grid = GridSearchCV(model, param_dict, cv=3, verbose=3, n_jobs=-1)\n",
    "# pozor -1 môže spôsobiť problémy s ramkou pozri parameter pre_dispatch\n",
    "grid_finished = grid.fit(X_train, y_train)"
   ]
  },
  {
   "cell_type": "code",
   "execution_count": 5,
   "metadata": {},
   "outputs": [
    {
     "data": {
      "text/plain": [
       "28"
      ]
     },
     "execution_count": 5,
     "metadata": {},
     "output_type": "execute_result"
    }
   ],
   "source": [
    "len(list(range(2,30,1)))"
   ]
  },
  {
   "cell_type": "code",
   "execution_count": 6,
   "metadata": {},
   "outputs": [
    {
     "data": {
      "text/plain": [
       "{'mean_fit_time': array([0.02099331, 0.01506162, 0.01549967, 0.01548449, 0.01316833,\n",
       "        0.01683283, 0.0128332 , 0.01200024, 0.01379832, 0.01268832,\n",
       "        0.01325695, 0.0124898 , 0.01460775, 0.01316635, 0.01349489,\n",
       "        0.01419799, 0.01516636, 0.01433071, 0.01398698, 0.01445405,\n",
       "        0.01448679, 0.01478473, 0.01483369, 0.01385466, 0.01471448,\n",
       "        0.01483385, 0.01433341, 0.01366798, 0.01426323, 0.01377694,\n",
       "        0.01564431, 0.01499931, 0.01466608, 0.01348233, 0.01458216,\n",
       "        0.01533278, 0.01474023, 0.01394447, 0.01449982, 0.01500074,\n",
       "        0.01459074, 0.01480683, 0.01483353, 0.01983285, 0.01483258,\n",
       "        0.01860285, 0.01556985, 0.01586342, 0.01483369, 0.01950034,\n",
       "        0.0161922 , 0.01664392, 0.01624314, 0.01680787, 0.01533326,\n",
       "        0.01731459, 0.02149971, 0.01532356, 0.01718346, 0.01849731,\n",
       "        0.01533286, 0.01583346, 0.0148325 , 0.0148011 , 0.01449958,\n",
       "        0.01470391, 0.01484537, 0.0144999 , 0.01698852, 0.01535614,\n",
       "        0.01483266, 0.01486429, 0.01449982, 0.01448981, 0.01506217,\n",
       "        0.01445889, 0.01416707, 0.0148325 , 0.01404421, 0.01364112,\n",
       "        0.01466656, 0.01451739, 0.01465702, 0.01699996]),\n",
       " 'std_fit_time': array([4.54555724e-03, 7.34750541e-04, 5.61957980e-07, 4.08036401e-04,\n",
       "        2.37036754e-04, 4.02885026e-03, 4.70303852e-04, 1.08074509e-03,\n",
       "        9.88925823e-04, 1.19555030e-03, 2.18979068e-04, 1.07613310e-03,\n",
       "        1.07384756e-03, 6.24095393e-04, 1.87229017e-05, 2.16785501e-04,\n",
       "        1.31277456e-03, 2.34233874e-04, 1.74836679e-05, 4.15636021e-04,\n",
       "        5.81634067e-04, 3.26625699e-04, 9.43246595e-04, 3.64894492e-04,\n",
       "        5.55840112e-04, 2.36641006e-04, 6.23861939e-04, 5.04494853e-04,\n",
       "        3.26303523e-04, 1.94270069e-04, 1.76883591e-03, 4.08803091e-04,\n",
       "        2.34842744e-04, 3.60203107e-04, 8.66278960e-05, 8.50211781e-04,\n",
       "        5.30701370e-04, 1.63517959e-03, 4.08219088e-04, 8.18481973e-04,\n",
       "        3.63924595e-04, 2.88012823e-04, 4.71652146e-04, 7.89826733e-03,\n",
       "        2.36416704e-04, 4.02666358e-03, 4.20165666e-04, 1.64473082e-03,\n",
       "        6.23118379e-04, 3.24083452e-03, 1.12254693e-03, 1.41528670e-03,\n",
       "        5.46173145e-04, 1.56454189e-03, 1.54514054e-03, 2.98292233e-03,\n",
       "        4.94995071e-03, 6.36173277e-04, 3.75996981e-03, 1.87001585e-03,\n",
       "        4.71595780e-04, 1.24666176e-03, 4.72044864e-04, 2.13532408e-04,\n",
       "        1.08052342e-03, 5.93109344e-04, 1.44756552e-03, 1.14466744e-04,\n",
       "        3.22656233e-03, 6.30647873e-04, 2.34786770e-04, 6.17982194e-04,\n",
       "        4.08803462e-04, 3.96015931e-04, 7.55591531e-04, 4.13192857e-04,\n",
       "        8.50476624e-04, 1.02729009e-03, 1.14250628e-03, 2.54612811e-04,\n",
       "        9.43077882e-04, 1.46607770e-03, 1.32084626e-03, 3.89511747e-03]),\n",
       " 'mean_score_time': array([0.07571379, 0.06760112, 0.08533287, 0.07050093, 0.06400498,\n",
       "        0.08156554, 0.05816674, 0.05966679, 0.08517623, 0.05981104,\n",
       "        0.05938848, 0.07834252, 0.07014887, 0.06983439, 0.09925707,\n",
       "        0.06764229, 0.07050021, 0.09616597, 0.07381694, 0.07006907,\n",
       "        0.09532356, 0.06271466, 0.06424356, 0.08716631, 0.06772049,\n",
       "        0.05883288, 0.09266615, 0.06827378, 0.06666629, 0.08888968,\n",
       "        0.06499275, 0.06300036, 0.10216641, 0.06964795, 0.06213903,\n",
       "        0.10183398, 0.07742667, 0.0681661 , 0.10016751, 0.06433225,\n",
       "        0.0636332 , 0.09149257, 0.06366658, 0.06733402, 0.10158491,\n",
       "        0.06733354, 0.08092968, 0.11690696, 0.06649828, 0.06416678,\n",
       "        0.105956  , 0.07042869, 0.07042241, 0.10850048, 0.07084147,\n",
       "        0.07633297, 0.10627111, 0.07267475, 0.06683556, 0.11000045,\n",
       "        0.06422456, 0.06767774, 0.10083365, 0.06600944, 0.06733489,\n",
       "        0.09696158, 0.06815529, 0.06583238, 0.10000022, 0.06681116,\n",
       "        0.06249992, 0.10013572, 0.06650003, 0.06933371, 0.1157705 ,\n",
       "        0.08600012, 0.06149944, 0.12549909, 0.07163278, 0.06883367,\n",
       "        0.11799971, 0.07350659, 0.0738345 , 0.07887499]),\n",
       " 'std_score_time': array([0.01018306, 0.00436679, 0.00271909, 0.0056726 , 0.00844249,\n",
       "        0.00153972, 0.00286662, 0.00716821, 0.0070058 , 0.00193883,\n",
       "        0.00438112, 0.00391307, 0.00822497, 0.00347194, 0.01489712,\n",
       "        0.0022165 , 0.01019878, 0.00201314, 0.00251699, 0.0015685 ,\n",
       "        0.00153153, 0.00645505, 0.00054495, 0.00062293, 0.00405769,\n",
       "        0.0051373 , 0.00385866, 0.00187086, 0.00117871, 0.00361071,\n",
       "        0.00572696, 0.00509881, 0.01041073, 0.01112114, 0.00343975,\n",
       "        0.00510434, 0.01915417, 0.00047143, 0.00594922, 0.00193022,\n",
       "        0.00366062, 0.00323035, 0.00330027, 0.0054359 , 0.00826589,\n",
       "        0.00473146, 0.00974996, 0.01239412, 0.00552414, 0.00154475,\n",
       "        0.00559649, 0.0042942 , 0.00184646, 0.00884155, 0.00101769,\n",
       "        0.00860525, 0.0073582 , 0.01191245, 0.00411027, 0.00255006,\n",
       "        0.0050523 , 0.00594035, 0.00368174, 0.00284605, 0.00249553,\n",
       "        0.00426902, 0.0087616 , 0.00487172, 0.00738199, 0.01004491,\n",
       "        0.00481269, 0.00489415, 0.00248196, 0.00566246, 0.00609322,\n",
       "        0.01571971, 0.00575834, 0.0044168 , 0.00363126, 0.00449727,\n",
       "        0.00843637, 0.00432441, 0.00618331, 0.00611508]),\n",
       " 'param_n_neighbors': masked_array(data=[2, 2, 2, 3, 3, 3, 4, 4, 4, 5, 5, 5, 6, 6, 6, 7, 7, 7,\n",
       "                    8, 8, 8, 9, 9, 9, 10, 10, 10, 11, 11, 11, 12, 12, 12,\n",
       "                    13, 13, 13, 14, 14, 14, 15, 15, 15, 16, 16, 16, 17, 17,\n",
       "                    17, 18, 18, 18, 19, 19, 19, 20, 20, 20, 21, 21, 21, 22,\n",
       "                    22, 22, 23, 23, 23, 24, 24, 24, 25, 25, 25, 26, 26, 26,\n",
       "                    27, 27, 27, 28, 28, 28, 29, 29, 29],\n",
       "              mask=[False, False, False, False, False, False, False, False,\n",
       "                    False, False, False, False, False, False, False, False,\n",
       "                    False, False, False, False, False, False, False, False,\n",
       "                    False, False, False, False, False, False, False, False,\n",
       "                    False, False, False, False, False, False, False, False,\n",
       "                    False, False, False, False, False, False, False, False,\n",
       "                    False, False, False, False, False, False, False, False,\n",
       "                    False, False, False, False, False, False, False, False,\n",
       "                    False, False, False, False, False, False, False, False,\n",
       "                    False, False, False, False, False, False, False, False,\n",
       "                    False, False, False, False],\n",
       "        fill_value='?',\n",
       "             dtype=object),\n",
       " 'param_p': masked_array(data=[1, 2, 3, 1, 2, 3, 1, 2, 3, 1, 2, 3, 1, 2, 3, 1, 2, 3,\n",
       "                    1, 2, 3, 1, 2, 3, 1, 2, 3, 1, 2, 3, 1, 2, 3, 1, 2, 3,\n",
       "                    1, 2, 3, 1, 2, 3, 1, 2, 3, 1, 2, 3, 1, 2, 3, 1, 2, 3,\n",
       "                    1, 2, 3, 1, 2, 3, 1, 2, 3, 1, 2, 3, 1, 2, 3, 1, 2, 3,\n",
       "                    1, 2, 3, 1, 2, 3, 1, 2, 3, 1, 2, 3],\n",
       "              mask=[False, False, False, False, False, False, False, False,\n",
       "                    False, False, False, False, False, False, False, False,\n",
       "                    False, False, False, False, False, False, False, False,\n",
       "                    False, False, False, False, False, False, False, False,\n",
       "                    False, False, False, False, False, False, False, False,\n",
       "                    False, False, False, False, False, False, False, False,\n",
       "                    False, False, False, False, False, False, False, False,\n",
       "                    False, False, False, False, False, False, False, False,\n",
       "                    False, False, False, False, False, False, False, False,\n",
       "                    False, False, False, False, False, False, False, False,\n",
       "                    False, False, False, False],\n",
       "        fill_value='?',\n",
       "             dtype=object),\n",
       " 'params': [{'n_neighbors': 2, 'p': 1},\n",
       "  {'n_neighbors': 2, 'p': 2},\n",
       "  {'n_neighbors': 2, 'p': 3},\n",
       "  {'n_neighbors': 3, 'p': 1},\n",
       "  {'n_neighbors': 3, 'p': 2},\n",
       "  {'n_neighbors': 3, 'p': 3},\n",
       "  {'n_neighbors': 4, 'p': 1},\n",
       "  {'n_neighbors': 4, 'p': 2},\n",
       "  {'n_neighbors': 4, 'p': 3},\n",
       "  {'n_neighbors': 5, 'p': 1},\n",
       "  {'n_neighbors': 5, 'p': 2},\n",
       "  {'n_neighbors': 5, 'p': 3},\n",
       "  {'n_neighbors': 6, 'p': 1},\n",
       "  {'n_neighbors': 6, 'p': 2},\n",
       "  {'n_neighbors': 6, 'p': 3},\n",
       "  {'n_neighbors': 7, 'p': 1},\n",
       "  {'n_neighbors': 7, 'p': 2},\n",
       "  {'n_neighbors': 7, 'p': 3},\n",
       "  {'n_neighbors': 8, 'p': 1},\n",
       "  {'n_neighbors': 8, 'p': 2},\n",
       "  {'n_neighbors': 8, 'p': 3},\n",
       "  {'n_neighbors': 9, 'p': 1},\n",
       "  {'n_neighbors': 9, 'p': 2},\n",
       "  {'n_neighbors': 9, 'p': 3},\n",
       "  {'n_neighbors': 10, 'p': 1},\n",
       "  {'n_neighbors': 10, 'p': 2},\n",
       "  {'n_neighbors': 10, 'p': 3},\n",
       "  {'n_neighbors': 11, 'p': 1},\n",
       "  {'n_neighbors': 11, 'p': 2},\n",
       "  {'n_neighbors': 11, 'p': 3},\n",
       "  {'n_neighbors': 12, 'p': 1},\n",
       "  {'n_neighbors': 12, 'p': 2},\n",
       "  {'n_neighbors': 12, 'p': 3},\n",
       "  {'n_neighbors': 13, 'p': 1},\n",
       "  {'n_neighbors': 13, 'p': 2},\n",
       "  {'n_neighbors': 13, 'p': 3},\n",
       "  {'n_neighbors': 14, 'p': 1},\n",
       "  {'n_neighbors': 14, 'p': 2},\n",
       "  {'n_neighbors': 14, 'p': 3},\n",
       "  {'n_neighbors': 15, 'p': 1},\n",
       "  {'n_neighbors': 15, 'p': 2},\n",
       "  {'n_neighbors': 15, 'p': 3},\n",
       "  {'n_neighbors': 16, 'p': 1},\n",
       "  {'n_neighbors': 16, 'p': 2},\n",
       "  {'n_neighbors': 16, 'p': 3},\n",
       "  {'n_neighbors': 17, 'p': 1},\n",
       "  {'n_neighbors': 17, 'p': 2},\n",
       "  {'n_neighbors': 17, 'p': 3},\n",
       "  {'n_neighbors': 18, 'p': 1},\n",
       "  {'n_neighbors': 18, 'p': 2},\n",
       "  {'n_neighbors': 18, 'p': 3},\n",
       "  {'n_neighbors': 19, 'p': 1},\n",
       "  {'n_neighbors': 19, 'p': 2},\n",
       "  {'n_neighbors': 19, 'p': 3},\n",
       "  {'n_neighbors': 20, 'p': 1},\n",
       "  {'n_neighbors': 20, 'p': 2},\n",
       "  {'n_neighbors': 20, 'p': 3},\n",
       "  {'n_neighbors': 21, 'p': 1},\n",
       "  {'n_neighbors': 21, 'p': 2},\n",
       "  {'n_neighbors': 21, 'p': 3},\n",
       "  {'n_neighbors': 22, 'p': 1},\n",
       "  {'n_neighbors': 22, 'p': 2},\n",
       "  {'n_neighbors': 22, 'p': 3},\n",
       "  {'n_neighbors': 23, 'p': 1},\n",
       "  {'n_neighbors': 23, 'p': 2},\n",
       "  {'n_neighbors': 23, 'p': 3},\n",
       "  {'n_neighbors': 24, 'p': 1},\n",
       "  {'n_neighbors': 24, 'p': 2},\n",
       "  {'n_neighbors': 24, 'p': 3},\n",
       "  {'n_neighbors': 25, 'p': 1},\n",
       "  {'n_neighbors': 25, 'p': 2},\n",
       "  {'n_neighbors': 25, 'p': 3},\n",
       "  {'n_neighbors': 26, 'p': 1},\n",
       "  {'n_neighbors': 26, 'p': 2},\n",
       "  {'n_neighbors': 26, 'p': 3},\n",
       "  {'n_neighbors': 27, 'p': 1},\n",
       "  {'n_neighbors': 27, 'p': 2},\n",
       "  {'n_neighbors': 27, 'p': 3},\n",
       "  {'n_neighbors': 28, 'p': 1},\n",
       "  {'n_neighbors': 28, 'p': 2},\n",
       "  {'n_neighbors': 28, 'p': 3},\n",
       "  {'n_neighbors': 29, 'p': 1},\n",
       "  {'n_neighbors': 29, 'p': 2},\n",
       "  {'n_neighbors': 29, 'p': 3}],\n",
       " 'split0_test_score': array([0.88451668, 0.88366125, 0.88366125, 0.84260051, 0.84431138,\n",
       "        0.84602224, 0.83490163, 0.83917879, 0.83917879, 0.82207015,\n",
       "        0.81864842, 0.81779299, 0.83917879, 0.83746792, 0.83746792,\n",
       "        0.84003422, 0.83832335, 0.83832335, 0.83490163, 0.83490163,\n",
       "        0.83490163, 0.83233533, 0.83319076, 0.83319076, 0.83404619,\n",
       "        0.83490163, 0.83490163, 0.82976903, 0.8314799 , 0.8314799 ,\n",
       "        0.83404619, 0.8314799 , 0.8314799 , 0.83404619, 0.83062447,\n",
       "        0.83062447, 0.83062447, 0.8289136 , 0.8289136 , 0.82549187,\n",
       "        0.82121471, 0.82121471, 0.82378101, 0.82720274, 0.82720274,\n",
       "        0.82035928, 0.82207015, 0.82207015, 0.82720274, 0.82976903,\n",
       "        0.82976903, 0.82720274, 0.82549187, 0.82549187, 0.8289136 ,\n",
       "        0.82976903, 0.82976903, 0.8289136 , 0.8289136 , 0.8289136 ,\n",
       "        0.83319076, 0.83319076, 0.83319076, 0.83319076, 0.83319076,\n",
       "        0.83319076, 0.83319076, 0.83319076, 0.83319076, 0.83319076,\n",
       "        0.83319076, 0.83319076, 0.83319076, 0.83319076, 0.83319076,\n",
       "        0.83319076, 0.83319076, 0.83319076, 0.83319076, 0.83319076,\n",
       "        0.83319076, 0.83319076, 0.83319076, 0.83319076]),\n",
       " 'split1_test_score': array([0.9015411 , 0.90068493, 0.90325342, 0.86558219, 0.86558219,\n",
       "        0.8630137 , 0.84075342, 0.84160959, 0.84246575, 0.82106164,\n",
       "        0.82277397, 0.81849315, 0.82876712, 0.82791096, 0.82619863,\n",
       "        0.82363014, 0.82363014, 0.82191781, 0.83219178, 0.83047945,\n",
       "        0.83047945, 0.82277397, 0.82363014, 0.8244863 , 0.82619863,\n",
       "        0.82705479, 0.82705479, 0.82020548, 0.8244863 , 0.8244863 ,\n",
       "        0.82791096, 0.83133562, 0.83133562, 0.82534247, 0.82876712,\n",
       "        0.82876712, 0.82876712, 0.83047945, 0.83047945, 0.82876712,\n",
       "        0.83047945, 0.83047945, 0.83133562, 0.83133562, 0.83133562,\n",
       "        0.82876712, 0.82876712, 0.82876712, 0.83390411, 0.83133562,\n",
       "        0.83133562, 0.83047945, 0.82962329, 0.82962329, 0.83390411,\n",
       "        0.83304795, 0.83304795, 0.83219178, 0.83219178, 0.83219178,\n",
       "        0.83219178, 0.83219178, 0.83219178, 0.83219178, 0.83219178,\n",
       "        0.83219178, 0.83219178, 0.83219178, 0.83219178, 0.83047945,\n",
       "        0.83047945, 0.83047945, 0.83219178, 0.83390411, 0.83390411,\n",
       "        0.83047945, 0.83047945, 0.83047945, 0.83390411, 0.83390411,\n",
       "        0.83390411, 0.83390411, 0.83476027, 0.83476027]),\n",
       " 'split2_test_score': array([0.88099315, 0.88441781, 0.88356164, 0.8484589 , 0.84332192,\n",
       "        0.83989726, 0.83818493, 0.8364726 , 0.8364726 , 0.82619863,\n",
       "        0.82791096, 0.82534247, 0.84160959, 0.84160959, 0.83989726,\n",
       "        0.84075342, 0.84246575, 0.84246575, 0.83476027, 0.83133562,\n",
       "        0.83219178, 0.83047945, 0.82619863, 0.82705479, 0.83561644,\n",
       "        0.83561644, 0.8364726 , 0.83732877, 0.83732877, 0.83818493,\n",
       "        0.83989726, 0.83989726, 0.84075342, 0.84075342, 0.83989726,\n",
       "        0.83989726, 0.8390411 , 0.83818493, 0.83818493, 0.83818493,\n",
       "        0.83818493, 0.83818493, 0.83732877, 0.83561644, 0.83561644,\n",
       "        0.83732877, 0.8364726 , 0.8364726 , 0.8364726 , 0.83561644,\n",
       "        0.83561644, 0.8364726 , 0.83732877, 0.83732877, 0.83219178,\n",
       "        0.83561644, 0.83561644, 0.83219178, 0.83561644, 0.83561644,\n",
       "        0.83390411, 0.83390411, 0.83390411, 0.83219178, 0.83390411,\n",
       "        0.83390411, 0.83390411, 0.83390411, 0.83390411, 0.83390411,\n",
       "        0.83133562, 0.83133562, 0.83390411, 0.83390411, 0.83390411,\n",
       "        0.83390411, 0.83390411, 0.83390411, 0.83390411, 0.83390411,\n",
       "        0.83390411, 0.83390411, 0.83390411, 0.83390411]),\n",
       " 'mean_test_score': array([0.88901698, 0.889588  , 0.89015877, 0.85221387, 0.85107183,\n",
       "        0.8496444 , 0.83794666, 0.83908699, 0.83937238, 0.82311014,\n",
       "        0.82311112, 0.82054287, 0.8365185 , 0.83566282, 0.83452127,\n",
       "        0.83480593, 0.83480641, 0.83423564, 0.83395123, 0.8322389 ,\n",
       "        0.83252429, 0.82852958, 0.82767318, 0.82824395, 0.83195375,\n",
       "        0.83252429, 0.83280967, 0.82910109, 0.83109832, 0.83138371,\n",
       "        0.83395147, 0.83423759, 0.83452298, 0.83338069, 0.83309628,\n",
       "        0.83309628, 0.83281089, 0.83252599, 0.83252599, 0.83081464,\n",
       "        0.8299597 , 0.8299597 , 0.83081513, 0.83138493, 0.83138493,\n",
       "        0.82881839, 0.82910329, 0.82910329, 0.83252648, 0.83224036,\n",
       "        0.83224036, 0.83138493, 0.83081464, 0.83081464, 0.83166983,\n",
       "        0.83281114, 0.83281114, 0.83109905, 0.83224061, 0.83224061,\n",
       "        0.83309555, 0.83309555, 0.83309555, 0.83252477, 0.83309555,\n",
       "        0.83309555, 0.83309555, 0.83309555, 0.83309555, 0.83252477,\n",
       "        0.83166861, 0.83166861, 0.83309555, 0.83366633, 0.83366633,\n",
       "        0.83252477, 0.83252477, 0.83252477, 0.83366633, 0.83366633,\n",
       "        0.83366633, 0.83366633, 0.83395171, 0.83395171]),\n",
       " 'std_test_score': array([0.00897196, 0.00785279, 0.00925941, 0.0097507 , 0.01026832,\n",
       "        0.00977863, 0.00239492, 0.00209817, 0.00245052, 0.00222236,\n",
       "        0.00378892, 0.00340584, 0.00557016, 0.00573625, 0.00596798,\n",
       "        0.00790793, 0.00808174, 0.00887268, 0.00124545, 0.001915  ,\n",
       "        0.00182059, 0.00413976, 0.00403998, 0.00365171, 0.00411967,\n",
       "        0.00387851, 0.00411954, 0.00700649, 0.00524985, 0.00559286,\n",
       "        0.00489385, 0.00400242, 0.00440598, 0.00630907, 0.00486843,\n",
       "        0.00486843, 0.0044702 , 0.00405221, 0.00405221, 0.00538038,\n",
       "        0.0069378 , 0.0069378 , 0.00554308, 0.00343506, 0.00343506,\n",
       "        0.00692786, 0.00588458, 0.00588458, 0.00390777, 0.00247143,\n",
       "        0.00247143, 0.00383819, 0.00490527, 0.00490527, 0.00207053,\n",
       "        0.00239306, 0.00239306, 0.00154535, 0.00273664, 0.00273664,\n",
       "        0.00070229, 0.00070229, 0.00070229, 0.00047092, 0.00070229,\n",
       "        0.00070229, 0.00070229, 0.00070229, 0.00070229, 0.00147529,\n",
       "        0.00113165, 0.00113165, 0.00070229, 0.00033628, 0.00033628,\n",
       "        0.00147529, 0.00147529, 0.00147529, 0.00033628, 0.00033628,\n",
       "        0.00033628, 0.00033628, 0.00064163, 0.00064163]),\n",
       " 'rank_test_score': array([ 3,  2,  1,  4,  5,  6,  9,  8,  7, 83, 82, 84, 10, 11, 15, 13, 12,\n",
       "        17, 21, 58, 53, 79, 81, 80, 59, 52, 43, 77, 68, 66, 20, 16, 14, 28,\n",
       "        29, 29, 42, 45, 45, 70, 73, 73, 69, 63, 63, 78, 75, 75, 44, 56, 56,\n",
       "        63, 70, 70, 60, 40, 40, 67, 54, 54, 31, 31, 31, 47, 31, 31, 31, 31,\n",
       "        31, 47, 61, 61, 31, 22, 22, 47, 47, 47, 22, 22, 22, 22, 18, 18])}"
      ]
     },
     "execution_count": 6,
     "metadata": {},
     "output_type": "execute_result"
    }
   ],
   "source": [
    "grid_finished.cv_results_"
   ]
  },
  {
   "cell_type": "code",
   "execution_count": 7,
   "metadata": {},
   "outputs": [
    {
     "data": {
      "text/plain": [
       "KNeighborsClassifier(n_neighbors=2, p=3)"
      ]
     },
     "execution_count": 7,
     "metadata": {},
     "output_type": "execute_result"
    }
   ],
   "source": [
    "grid_finished.best_estimator_"
   ]
  },
  {
   "cell_type": "code",
   "execution_count": 8,
   "metadata": {},
   "outputs": [
    {
     "name": "stdout",
     "output_type": "stream",
     "text": [
      "0.9600912200684151\n",
      "0.9778481012658228\n",
      "0.8565573770491803\n",
      "              precision    recall  f1-score   support\n",
      "\n",
      "           0       0.96      1.00      0.98       755\n",
      "           1       1.00      0.71      0.83       122\n",
      "\n",
      "    accuracy                           0.96       877\n",
      "   macro avg       0.98      0.86      0.90       877\n",
      "weighted avg       0.96      0.96      0.96       877\n",
      "\n"
     ]
    }
   ],
   "source": [
    "best_knn = grid_finished.best_estimator_\n",
    "# neigh.fit(X_train, y_train) \n",
    "y_pred = best_knn.predict(X_test)\n",
    "\n",
    "print(f1_score(y_test, y_pred, average='micro'))\n",
    "print(precision_score(y_test, y_pred, average=\"macro\"))\n",
    "print(recall_score(y_test, y_pred, average=\"macro\"))\n",
    "print(classification_report(y_test,y_pred))"
   ]
  },
  {
   "cell_type": "code",
   "execution_count": 9,
   "metadata": {},
   "outputs": [
    {
     "data": {
      "text/plain": [
       "<sklearn.metrics._plot.confusion_matrix.ConfusionMatrixDisplay at 0x2e22b33aaf0>"
      ]
     },
     "execution_count": 9,
     "metadata": {},
     "output_type": "execute_result"
    },
    {
     "data": {
      "image/png": "[encoded data removed]",
      "text/plain": [
       "<Figure size 432x288 with 2 Axes>"
      ]
     },
     "metadata": {
      "needs_background": "light"
     },
     "output_type": "display_data"
    }
   ],
   "source": [
    "plot_confusion_matrix(best_knn, X_test, y_test)"
   ]
  },
  {
   "cell_type": "code",
   "execution_count": null,
   "metadata": {},
   "outputs": [],
   "source": []
  },
  {
   "cell_type": "code",
   "execution_count": null,
   "metadata": {},
   "outputs": [],
   "source": []
  },
  {
   "cell_type": "code",
   "execution_count": null,
   "metadata": {},
   "outputs": [],
   "source": []
  }
 ],
 "metadata": {
  "kernelspec": {
   "display_name": "Python 3",
   "language": "python",
   "name": "python3"
  },
  "language_info": {
   "codemirror_mode": {
    "name": "ipython",
    "version": 3
   },
   "file_extension": ".py",
   "mimetype": "text/x-python",
   "name": "python",
   "nbconvert_exporter": "python",
   "pygments_lexer": "ipython3",
   "version": "3.8.6"
  }
 },
 "nbformat": 4,
 "nbformat_minor": 4
}
