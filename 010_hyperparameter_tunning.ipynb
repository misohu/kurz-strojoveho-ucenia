{
 "cells": [
  {
   "cell_type": "markdown",
   "metadata": {},
   "source": [
    "# Prehľadávanie mriežky\n",
    "Ako nájsť optimálne nastavenie klasifikátoru pri predikcii. V prípade napríklad [KNN](https://scikit-learn.org/stable/modules/generated/sklearn.neighbors.KNeighborsClassifier.html): \n",
    "- Ako zistiť optimálny počet susedov?\n",
    "- Ako zistiť, ktorú dištančnú metriku použiť.\n",
    "\n",
    "Niektoré algoritmi môžu mať až desiatky parametrov na preskúmanie. Ako zistíme, ktoré máme použiť?"
   ]
  },
  {
   "cell_type": "code",
   "execution_count": 1,
   "metadata": {},
   "outputs": [],
   "source": [
    "import pandas as pd\n",
    "\n",
    "from sklearn.neighbors import KNeighborsClassifier\n",
    "from sklearn.model_selection import train_test_split\n",
    "from sklearn.metrics import f1_score, accuracy_score, f1_score, precision_score, recall_score, classification_report, confusion_matrix, plot_confusion_matrix"
   ]
  },
  {
   "cell_type": "code",
   "execution_count": 2,
   "metadata": {},
   "outputs": [],
   "source": [
    "df = pd.read_csv(\"processed_data/numerical.csv\", index_col=\"EmployeeID\")\n",
    "y = df['Attrition_num']\n",
    "X = df[df.columns.difference(['Attrition_num', 'Attrition'])]\n",
    "X_train, X_test, y_train, y_test = train_test_split(X, y, test_size=0.20, random_state=42)"
   ]
  },
  {
   "cell_type": "code",
   "execution_count": 3,
   "metadata": {},
   "outputs": [
    {
     "name": "stdout",
     "output_type": "stream",
     "text": [
      "0.9247434435575826\n",
      "0.8428997937248941\n",
      "0.8428997937248941\n",
      "              precision    recall  f1-score   support\n",
      "\n",
      "           0       0.96      0.96      0.96       755\n",
      "           1       0.73      0.73      0.73       122\n",
      "\n",
      "    accuracy                           0.92       877\n",
      "   macro avg       0.84      0.84      0.84       877\n",
      "weighted avg       0.92      0.92      0.92       877\n",
      "\n"
     ]
    }
   ],
   "source": [
    "neigh = KNeighborsClassifier(n_neighbors=3)\n",
    "neigh.fit(X_train, y_train) \n",
    "y_pred = neigh.predict(X_test)\n",
    "\n",
    "print(f1_score(y_test, y_pred, average='micro'))\n",
    "print(precision_score(y_test, y_pred, average=\"macro\"))\n",
    "print(recall_score(y_test, y_pred, average=\"macro\"))\n",
    "print(classification_report(y_test,y_pred))"
   ]
  },
  {
   "cell_type": "markdown",
   "metadata": {},
   "source": [
    "# Grid search\n",
    "[Dokumentácia](https://scikit-learn.org/stable/modules/generated/sklearn.model_selection.GridSearchCV.html)"
   ]
  },
  {
   "cell_type": "code",
   "execution_count": 4,
   "metadata": {},
   "outputs": [
    {
     "name": "stdout",
     "output_type": "stream",
     "text": [
      "Fitting 3 folds for each of 84 candidates, totalling 252 fits\n"
     ]
    }
   ],
   "source": [
    "from sklearn.model_selection import GridSearchCV\n",
    "\n",
    "model = KNeighborsClassifier()\n",
    "param_dict = { \n",
    "    \"n_neighbors\": list(range(2,30,1)),\n",
    "    \"p\": [1,2,3]    \n",
    "}\n",
    "\n",
    "grid = GridSearchCV(model, param_dict, cv=3, verbose=3, n_jobs=-1)\n",
    "# pozor -1 môže spôsobiť problémy s ramkou pozri parameter pre_dispatch\n",
    "grid_finished = grid.fit(X_train, y_train)"
   ]
  },
  {
   "cell_type": "code",
   "execution_count": 10,
   "metadata": {},
   "outputs": [
    {
     "data": {
      "text/plain": [
       "28"
      ]
     },
     "execution_count": 10,
     "metadata": {},
     "output_type": "execute_result"
    }
   ],
   "source": [
    "len(list(range(2,30,1)))"
   ]
  },
  {
   "cell_type": "code",
   "execution_count": 6,
   "metadata": {},
   "outputs": [
    {
     "data": {
      "text/plain": [
       "{'mean_fit_time': array([0.01871864, 0.02183151, 0.02604834, 0.02263792, 0.02202082,\n",
       "        0.01875846, 0.0193243 , 0.02450323, 0.02089834, 0.02276309,\n",
       "        0.02267615, 0.01951687, 0.02051274, 0.01626341, 0.01994816,\n",
       "        0.01938319, 0.02117594, 0.02396313, 0.01819801, 0.02032423,\n",
       "        0.02068694, 0.02345832, 0.01949485, 0.01686255, 0.0177656 ,\n",
       "        0.01858123, 0.01811107, 0.01966063, 0.01869448, 0.01734686,\n",
       "        0.01983333, 0.01919397, 0.01807602, 0.01842324, 0.01818967,\n",
       "        0.0179836 , 0.01755333, 0.01800879, 0.01721787, 0.03074559,\n",
       "        0.01975163, 0.01653298, 0.01774128, 0.01632969, 0.0209922 ,\n",
       "        0.01906411, 0.02250592, 0.01849683, 0.0208319 , 0.02118532,\n",
       "        0.02000944, 0.01791668, 0.01866849, 0.02049398, 0.0188427 ,\n",
       "        0.02056289, 0.01998893, 0.01934274, 0.02027615, 0.01796532,\n",
       "        0.01801864, 0.01950192, 0.01772173, 0.01585809, 0.02040672,\n",
       "        0.02042429, 0.02078954, 0.01799599, 0.02133266, 0.01933169,\n",
       "        0.02083834, 0.0183595 , 0.0165023 , 0.01984318, 0.01876243,\n",
       "        0.02552009, 0.02332942, 0.02499342, 0.01923561, 0.01879954,\n",
       "        0.02449926, 0.02032606, 0.02011291, 0.01817417]),\n",
       " 'std_fit_time': array([0.00204033, 0.00191689, 0.00612242, 0.00694124, 0.0041604 ,\n",
       "        0.00312903, 0.0041903 , 0.00755781, 0.00263044, 0.0042956 ,\n",
       "        0.00429449, 0.00079996, 0.0028284 , 0.00030403, 0.00152518,\n",
       "        0.00118209, 0.00482947, 0.0031758 , 0.0004976 , 0.0004755 ,\n",
       "        0.00553744, 0.00536672, 0.00069049, 0.0006351 , 0.00093769,\n",
       "        0.00051524, 0.001337  , 0.00205259, 0.00085994, 0.00145122,\n",
       "        0.00478108, 0.00281148, 0.00090223, 0.00196535, 0.0010303 ,\n",
       "        0.00081719, 0.00036016, 0.00047303, 0.00150446, 0.0065233 ,\n",
       "        0.00339705, 0.00111139, 0.00125455, 0.0006194 , 0.00494968,\n",
       "        0.00395516, 0.00353264, 0.00107623, 0.00403186, 0.00207738,\n",
       "        0.00163659, 0.00132712, 0.0009437 , 0.00145153, 0.00369975,\n",
       "        0.00291926, 0.00329131, 0.00188376, 0.00322226, 0.00146532,\n",
       "        0.00106388, 0.00227072, 0.00126784, 0.00084569, 0.00205392,\n",
       "        0.00242842, 0.00261249, 0.00141468, 0.00339581, 0.00236444,\n",
       "        0.00142734, 0.00066223, 0.00082326, 0.0011723 , 0.00138037,\n",
       "        0.00473871, 0.00513526, 0.00402255, 0.00287689, 0.00282499,\n",
       "        0.00267525, 0.00292691, 0.00054887, 0.00100491]),\n",
       " 'mean_score_time': array([0.11283906, 0.10442678, 0.13707749, 0.08020735, 0.09801205,\n",
       "        0.10253342, 0.08358471, 0.09220235, 0.12311014, 0.0846525 ,\n",
       "        0.07266871, 0.10947744, 0.07399933, 0.07240168, 0.11087584,\n",
       "        0.08310358, 0.07316375, 0.12467162, 0.07831081, 0.07157008,\n",
       "        0.12415139, 0.07591422, 0.07444596, 0.10685809, 0.07457495,\n",
       "        0.07424227, 0.10762771, 0.08583832, 0.07556446, 0.0983208 ,\n",
       "        0.08034658, 0.07743168, 0.11316204, 0.07504447, 0.08021506,\n",
       "        0.11610945, 0.07902749, 0.07762822, 0.13382125, 0.08270097,\n",
       "        0.07742262, 0.13129091, 0.07365576, 0.0750622 , 0.13167826,\n",
       "        0.08264224, 0.08383671, 0.11800329, 0.07716489, 0.08148106,\n",
       "        0.11732721, 0.0764362 , 0.07716346, 0.11820523, 0.08015792,\n",
       "        0.08511027, 0.11952384, 0.07405154, 0.07733337, 0.11900067,\n",
       "        0.07831287, 0.0776271 , 0.12263513, 0.07260497, 0.08738629,\n",
       "        0.13600381, 0.07387527, 0.07767002, 0.12299562, 0.07799657,\n",
       "        0.07932703, 0.13813988, 0.07382679, 0.09216324, 0.14600476,\n",
       "        0.08074911, 0.10768255, 0.13761783, 0.08597867, 0.08695563,\n",
       "        0.14499919, 0.08367697, 0.07533304, 0.10397196]),\n",
       " 'std_score_time': array([0.01576676, 0.0273214 , 0.0359382 , 0.0011909 , 0.01761209,\n",
       "        0.00922868, 0.0038864 , 0.01060881, 0.01059504, 0.0105362 ,\n",
       "        0.00276764, 0.01032226, 0.00778791, 0.00636704, 0.00286   ,\n",
       "        0.00376234, 0.00223456, 0.02169546, 0.00269455, 0.00569332,\n",
       "        0.01040501, 0.00351528, 0.00103313, 0.00325495, 0.00858118,\n",
       "        0.00873033, 0.00044946, 0.00654404, 0.0046064 , 0.00194617,\n",
       "        0.00207127, 0.0014802 , 0.00184594, 0.00855408, 0.00863281,\n",
       "        0.00214312, 0.00565099, 0.00762101, 0.00947943, 0.00693232,\n",
       "        0.00267983, 0.0113814 , 0.00046556, 0.00359936, 0.00659285,\n",
       "        0.00384449, 0.00357383, 0.0147586 , 0.00286934, 0.00687783,\n",
       "        0.00311642, 0.01277838, 0.00143329, 0.00942585, 0.0061373 ,\n",
       "        0.00387963, 0.00457193, 0.00067228, 0.00365812, 0.01005705,\n",
       "        0.0106276 , 0.00828274, 0.00804541, 0.00545247, 0.0103418 ,\n",
       "        0.00204187, 0.00347676, 0.00775871, 0.00990599, 0.00211841,\n",
       "        0.00395784, 0.0260438 , 0.00791503, 0.01546216, 0.00470499,\n",
       "        0.00267904, 0.02965136, 0.01975422, 0.00217521, 0.00286047,\n",
       "        0.0043229 , 0.00235138, 0.00370736, 0.00653927]),\n",
       " 'param_n_neighbors': masked_array(data=[2, 2, 2, 3, 3, 3, 4, 4, 4, 5, 5, 5, 6, 6, 6, 7, 7, 7,\n",
       "                    8, 8, 8, 9, 9, 9, 10, 10, 10, 11, 11, 11, 12, 12, 12,\n",
       "                    13, 13, 13, 14, 14, 14, 15, 15, 15, 16, 16, 16, 17, 17,\n",
       "                    17, 18, 18, 18, 19, 19, 19, 20, 20, 20, 21, 21, 21, 22,\n",
       "                    22, 22, 23, 23, 23, 24, 24, 24, 25, 25, 25, 26, 26, 26,\n",
       "                    27, 27, 27, 28, 28, 28, 29, 29, 29],\n",
       "              mask=[False, False, False, False, False, False, False, False,\n",
       "                    False, False, False, False, False, False, False, False,\n",
       "                    False, False, False, False, False, False, False, False,\n",
       "                    False, False, False, False, False, False, False, False,\n",
       "                    False, False, False, False, False, False, False, False,\n",
       "                    False, False, False, False, False, False, False, False,\n",
       "                    False, False, False, False, False, False, False, False,\n",
       "                    False, False, False, False, False, False, False, False,\n",
       "                    False, False, False, False, False, False, False, False,\n",
       "                    False, False, False, False, False, False, False, False,\n",
       "                    False, False, False, False],\n",
       "        fill_value='?',\n",
       "             dtype=object),\n",
       " 'param_p': masked_array(data=[1, 2, 3, 1, 2, 3, 1, 2, 3, 1, 2, 3, 1, 2, 3, 1, 2, 3,\n",
       "                    1, 2, 3, 1, 2, 3, 1, 2, 3, 1, 2, 3, 1, 2, 3, 1, 2, 3,\n",
       "                    1, 2, 3, 1, 2, 3, 1, 2, 3, 1, 2, 3, 1, 2, 3, 1, 2, 3,\n",
       "                    1, 2, 3, 1, 2, 3, 1, 2, 3, 1, 2, 3, 1, 2, 3, 1, 2, 3,\n",
       "                    1, 2, 3, 1, 2, 3, 1, 2, 3, 1, 2, 3],\n",
       "              mask=[False, False, False, False, False, False, False, False,\n",
       "                    False, False, False, False, False, False, False, False,\n",
       "                    False, False, False, False, False, False, False, False,\n",
       "                    False, False, False, False, False, False, False, False,\n",
       "                    False, False, False, False, False, False, False, False,\n",
       "                    False, False, False, False, False, False, False, False,\n",
       "                    False, False, False, False, False, False, False, False,\n",
       "                    False, False, False, False, False, False, False, False,\n",
       "                    False, False, False, False, False, False, False, False,\n",
       "                    False, False, False, False, False, False, False, False,\n",
       "                    False, False, False, False],\n",
       "        fill_value='?',\n",
       "             dtype=object),\n",
       " 'params': [{'n_neighbors': 2, 'p': 1},\n",
       "  {'n_neighbors': 2, 'p': 2},\n",
       "  {'n_neighbors': 2, 'p': 3},\n",
       "  {'n_neighbors': 3, 'p': 1},\n",
       "  {'n_neighbors': 3, 'p': 2},\n",
       "  {'n_neighbors': 3, 'p': 3},\n",
       "  {'n_neighbors': 4, 'p': 1},\n",
       "  {'n_neighbors': 4, 'p': 2},\n",
       "  {'n_neighbors': 4, 'p': 3},\n",
       "  {'n_neighbors': 5, 'p': 1},\n",
       "  {'n_neighbors': 5, 'p': 2},\n",
       "  {'n_neighbors': 5, 'p': 3},\n",
       "  {'n_neighbors': 6, 'p': 1},\n",
       "  {'n_neighbors': 6, 'p': 2},\n",
       "  {'n_neighbors': 6, 'p': 3},\n",
       "  {'n_neighbors': 7, 'p': 1},\n",
       "  {'n_neighbors': 7, 'p': 2},\n",
       "  {'n_neighbors': 7, 'p': 3},\n",
       "  {'n_neighbors': 8, 'p': 1},\n",
       "  {'n_neighbors': 8, 'p': 2},\n",
       "  {'n_neighbors': 8, 'p': 3},\n",
       "  {'n_neighbors': 9, 'p': 1},\n",
       "  {'n_neighbors': 9, 'p': 2},\n",
       "  {'n_neighbors': 9, 'p': 3},\n",
       "  {'n_neighbors': 10, 'p': 1},\n",
       "  {'n_neighbors': 10, 'p': 2},\n",
       "  {'n_neighbors': 10, 'p': 3},\n",
       "  {'n_neighbors': 11, 'p': 1},\n",
       "  {'n_neighbors': 11, 'p': 2},\n",
       "  {'n_neighbors': 11, 'p': 3},\n",
       "  {'n_neighbors': 12, 'p': 1},\n",
       "  {'n_neighbors': 12, 'p': 2},\n",
       "  {'n_neighbors': 12, 'p': 3},\n",
       "  {'n_neighbors': 13, 'p': 1},\n",
       "  {'n_neighbors': 13, 'p': 2},\n",
       "  {'n_neighbors': 13, 'p': 3},\n",
       "  {'n_neighbors': 14, 'p': 1},\n",
       "  {'n_neighbors': 14, 'p': 2},\n",
       "  {'n_neighbors': 14, 'p': 3},\n",
       "  {'n_neighbors': 15, 'p': 1},\n",
       "  {'n_neighbors': 15, 'p': 2},\n",
       "  {'n_neighbors': 15, 'p': 3},\n",
       "  {'n_neighbors': 16, 'p': 1},\n",
       "  {'n_neighbors': 16, 'p': 2},\n",
       "  {'n_neighbors': 16, 'p': 3},\n",
       "  {'n_neighbors': 17, 'p': 1},\n",
       "  {'n_neighbors': 17, 'p': 2},\n",
       "  {'n_neighbors': 17, 'p': 3},\n",
       "  {'n_neighbors': 18, 'p': 1},\n",
       "  {'n_neighbors': 18, 'p': 2},\n",
       "  {'n_neighbors': 18, 'p': 3},\n",
       "  {'n_neighbors': 19, 'p': 1},\n",
       "  {'n_neighbors': 19, 'p': 2},\n",
       "  {'n_neighbors': 19, 'p': 3},\n",
       "  {'n_neighbors': 20, 'p': 1},\n",
       "  {'n_neighbors': 20, 'p': 2},\n",
       "  {'n_neighbors': 20, 'p': 3},\n",
       "  {'n_neighbors': 21, 'p': 1},\n",
       "  {'n_neighbors': 21, 'p': 2},\n",
       "  {'n_neighbors': 21, 'p': 3},\n",
       "  {'n_neighbors': 22, 'p': 1},\n",
       "  {'n_neighbors': 22, 'p': 2},\n",
       "  {'n_neighbors': 22, 'p': 3},\n",
       "  {'n_neighbors': 23, 'p': 1},\n",
       "  {'n_neighbors': 23, 'p': 2},\n",
       "  {'n_neighbors': 23, 'p': 3},\n",
       "  {'n_neighbors': 24, 'p': 1},\n",
       "  {'n_neighbors': 24, 'p': 2},\n",
       "  {'n_neighbors': 24, 'p': 3},\n",
       "  {'n_neighbors': 25, 'p': 1},\n",
       "  {'n_neighbors': 25, 'p': 2},\n",
       "  {'n_neighbors': 25, 'p': 3},\n",
       "  {'n_neighbors': 26, 'p': 1},\n",
       "  {'n_neighbors': 26, 'p': 2},\n",
       "  {'n_neighbors': 26, 'p': 3},\n",
       "  {'n_neighbors': 27, 'p': 1},\n",
       "  {'n_neighbors': 27, 'p': 2},\n",
       "  {'n_neighbors': 27, 'p': 3},\n",
       "  {'n_neighbors': 28, 'p': 1},\n",
       "  {'n_neighbors': 28, 'p': 2},\n",
       "  {'n_neighbors': 28, 'p': 3},\n",
       "  {'n_neighbors': 29, 'p': 1},\n",
       "  {'n_neighbors': 29, 'p': 2},\n",
       "  {'n_neighbors': 29, 'p': 3}],\n",
       " 'split0_test_score': array([0.88451668, 0.88366125, 0.88366125, 0.84260051, 0.84431138,\n",
       "        0.84602224, 0.83490163, 0.83917879, 0.83917879, 0.82207015,\n",
       "        0.81864842, 0.81779299, 0.83917879, 0.83746792, 0.83746792,\n",
       "        0.84003422, 0.83832335, 0.83832335, 0.83490163, 0.83490163,\n",
       "        0.83490163, 0.83233533, 0.83319076, 0.83319076, 0.83404619,\n",
       "        0.83490163, 0.83490163, 0.82976903, 0.8314799 , 0.8314799 ,\n",
       "        0.83404619, 0.8314799 , 0.8314799 , 0.83404619, 0.83062447,\n",
       "        0.83062447, 0.83062447, 0.8289136 , 0.8289136 , 0.82549187,\n",
       "        0.82121471, 0.82121471, 0.82378101, 0.82720274, 0.82720274,\n",
       "        0.82035928, 0.82207015, 0.82207015, 0.82720274, 0.82976903,\n",
       "        0.82976903, 0.82720274, 0.82549187, 0.82549187, 0.8289136 ,\n",
       "        0.82976903, 0.82976903, 0.8289136 , 0.8289136 , 0.8289136 ,\n",
       "        0.83319076, 0.83319076, 0.83319076, 0.83319076, 0.83319076,\n",
       "        0.83319076, 0.83319076, 0.83319076, 0.83319076, 0.83319076,\n",
       "        0.83319076, 0.83319076, 0.83319076, 0.83319076, 0.83319076,\n",
       "        0.83319076, 0.83319076, 0.83319076, 0.83319076, 0.83319076,\n",
       "        0.83319076, 0.83319076, 0.83319076, 0.83319076]),\n",
       " 'split1_test_score': array([0.9015411 , 0.90068493, 0.90325342, 0.86558219, 0.86558219,\n",
       "        0.8630137 , 0.84075342, 0.84160959, 0.84246575, 0.82106164,\n",
       "        0.82277397, 0.81849315, 0.82876712, 0.82791096, 0.82619863,\n",
       "        0.82363014, 0.82363014, 0.82191781, 0.83219178, 0.83047945,\n",
       "        0.83047945, 0.82277397, 0.82363014, 0.8244863 , 0.82619863,\n",
       "        0.82705479, 0.82705479, 0.82020548, 0.8244863 , 0.8244863 ,\n",
       "        0.82791096, 0.83133562, 0.83133562, 0.82534247, 0.82876712,\n",
       "        0.82876712, 0.82876712, 0.83047945, 0.83047945, 0.82876712,\n",
       "        0.83047945, 0.83047945, 0.83133562, 0.83133562, 0.83133562,\n",
       "        0.82876712, 0.82876712, 0.82876712, 0.83390411, 0.83133562,\n",
       "        0.83133562, 0.83047945, 0.82962329, 0.82962329, 0.83390411,\n",
       "        0.83304795, 0.83304795, 0.83219178, 0.83219178, 0.83219178,\n",
       "        0.83219178, 0.83219178, 0.83219178, 0.83219178, 0.83219178,\n",
       "        0.83219178, 0.83219178, 0.83219178, 0.83219178, 0.83047945,\n",
       "        0.83047945, 0.83047945, 0.83219178, 0.83390411, 0.83390411,\n",
       "        0.83047945, 0.83047945, 0.83047945, 0.83390411, 0.83390411,\n",
       "        0.83390411, 0.83390411, 0.83476027, 0.83476027]),\n",
       " 'split2_test_score': array([0.88099315, 0.88441781, 0.88356164, 0.8484589 , 0.84332192,\n",
       "        0.83989726, 0.83818493, 0.8364726 , 0.8364726 , 0.82619863,\n",
       "        0.82791096, 0.82534247, 0.84160959, 0.84160959, 0.83989726,\n",
       "        0.84075342, 0.84246575, 0.84246575, 0.83476027, 0.83133562,\n",
       "        0.83219178, 0.83047945, 0.82619863, 0.82705479, 0.83561644,\n",
       "        0.83561644, 0.8364726 , 0.83732877, 0.83732877, 0.83818493,\n",
       "        0.83989726, 0.83989726, 0.84075342, 0.84075342, 0.83989726,\n",
       "        0.83989726, 0.8390411 , 0.83818493, 0.83818493, 0.83818493,\n",
       "        0.83818493, 0.83818493, 0.83732877, 0.83561644, 0.83561644,\n",
       "        0.83732877, 0.8364726 , 0.8364726 , 0.8364726 , 0.83561644,\n",
       "        0.83561644, 0.8364726 , 0.83732877, 0.83732877, 0.83219178,\n",
       "        0.83561644, 0.83561644, 0.83219178, 0.83561644, 0.83561644,\n",
       "        0.83390411, 0.83390411, 0.83390411, 0.83219178, 0.83390411,\n",
       "        0.83390411, 0.83390411, 0.83390411, 0.83390411, 0.83390411,\n",
       "        0.83133562, 0.83133562, 0.83390411, 0.83390411, 0.83390411,\n",
       "        0.83390411, 0.83390411, 0.83390411, 0.83390411, 0.83390411,\n",
       "        0.83390411, 0.83390411, 0.83390411, 0.83390411]),\n",
       " 'mean_test_score': array([0.88901698, 0.889588  , 0.89015877, 0.85221387, 0.85107183,\n",
       "        0.8496444 , 0.83794666, 0.83908699, 0.83937238, 0.82311014,\n",
       "        0.82311112, 0.82054287, 0.8365185 , 0.83566282, 0.83452127,\n",
       "        0.83480593, 0.83480641, 0.83423564, 0.83395123, 0.8322389 ,\n",
       "        0.83252429, 0.82852958, 0.82767318, 0.82824395, 0.83195375,\n",
       "        0.83252429, 0.83280967, 0.82910109, 0.83109832, 0.83138371,\n",
       "        0.83395147, 0.83423759, 0.83452298, 0.83338069, 0.83309628,\n",
       "        0.83309628, 0.83281089, 0.83252599, 0.83252599, 0.83081464,\n",
       "        0.8299597 , 0.8299597 , 0.83081513, 0.83138493, 0.83138493,\n",
       "        0.82881839, 0.82910329, 0.82910329, 0.83252648, 0.83224036,\n",
       "        0.83224036, 0.83138493, 0.83081464, 0.83081464, 0.83166983,\n",
       "        0.83281114, 0.83281114, 0.83109905, 0.83224061, 0.83224061,\n",
       "        0.83309555, 0.83309555, 0.83309555, 0.83252477, 0.83309555,\n",
       "        0.83309555, 0.83309555, 0.83309555, 0.83309555, 0.83252477,\n",
       "        0.83166861, 0.83166861, 0.83309555, 0.83366633, 0.83366633,\n",
       "        0.83252477, 0.83252477, 0.83252477, 0.83366633, 0.83366633,\n",
       "        0.83366633, 0.83366633, 0.83395171, 0.83395171]),\n",
       " 'std_test_score': array([0.00897196, 0.00785279, 0.00925941, 0.0097507 , 0.01026832,\n",
       "        0.00977863, 0.00239492, 0.00209817, 0.00245052, 0.00222236,\n",
       "        0.00378892, 0.00340584, 0.00557016, 0.00573625, 0.00596798,\n",
       "        0.00790793, 0.00808174, 0.00887268, 0.00124545, 0.001915  ,\n",
       "        0.00182059, 0.00413976, 0.00403998, 0.00365171, 0.00411967,\n",
       "        0.00387851, 0.00411954, 0.00700649, 0.00524985, 0.00559286,\n",
       "        0.00489385, 0.00400242, 0.00440598, 0.00630907, 0.00486843,\n",
       "        0.00486843, 0.0044702 , 0.00405221, 0.00405221, 0.00538038,\n",
       "        0.0069378 , 0.0069378 , 0.00554308, 0.00343506, 0.00343506,\n",
       "        0.00692786, 0.00588458, 0.00588458, 0.00390777, 0.00247143,\n",
       "        0.00247143, 0.00383819, 0.00490527, 0.00490527, 0.00207053,\n",
       "        0.00239306, 0.00239306, 0.00154535, 0.00273664, 0.00273664,\n",
       "        0.00070229, 0.00070229, 0.00070229, 0.00047092, 0.00070229,\n",
       "        0.00070229, 0.00070229, 0.00070229, 0.00070229, 0.00147529,\n",
       "        0.00113165, 0.00113165, 0.00070229, 0.00033628, 0.00033628,\n",
       "        0.00147529, 0.00147529, 0.00147529, 0.00033628, 0.00033628,\n",
       "        0.00033628, 0.00033628, 0.00064163, 0.00064163]),\n",
       " 'rank_test_score': array([ 3,  2,  1,  4,  5,  6,  9,  8,  7, 83, 82, 84, 10, 11, 15, 13, 12,\n",
       "        17, 21, 58, 53, 79, 81, 80, 59, 52, 43, 77, 68, 66, 20, 16, 14, 28,\n",
       "        29, 29, 42, 45, 45, 70, 73, 73, 69, 63, 63, 78, 75, 75, 44, 56, 56,\n",
       "        63, 70, 70, 60, 40, 40, 67, 54, 54, 31, 31, 31, 47, 31, 31, 31, 31,\n",
       "        31, 47, 61, 61, 31, 22, 22, 47, 47, 47, 22, 22, 22, 22, 18, 18])}"
      ]
     },
     "execution_count": 6,
     "metadata": {},
     "output_type": "execute_result"
    }
   ],
   "source": [
    "grid_finished.cv_results_"
   ]
  },
  {
   "cell_type": "code",
   "execution_count": 11,
   "metadata": {},
   "outputs": [
    {
     "data": {
      "text/plain": [
       "KNeighborsClassifier(n_neighbors=2, p=3)"
      ]
     },
     "execution_count": 11,
     "metadata": {},
     "output_type": "execute_result"
    }
   ],
   "source": [
    "grid_finished.best_estimator_"
   ]
  },
  {
   "cell_type": "code",
   "execution_count": 12,
   "metadata": {},
   "outputs": [
    {
     "name": "stdout",
     "output_type": "stream",
     "text": [
      "0.9600912200684151\n",
      "0.9778481012658228\n",
      "0.8565573770491803\n",
      "              precision    recall  f1-score   support\n",
      "\n",
      "           0       0.96      1.00      0.98       755\n",
      "           1       1.00      0.71      0.83       122\n",
      "\n",
      "    accuracy                           0.96       877\n",
      "   macro avg       0.98      0.86      0.90       877\n",
      "weighted avg       0.96      0.96      0.96       877\n",
      "\n"
     ]
    }
   ],
   "source": [
    "best_knn = grid_finished.best_estimator_\n",
    "# neigh.fit(X_train, y_train) \n",
    "y_pred = best_knn.predict(X_test)\n",
    "\n",
    "print(f1_score(y_test, y_pred, average='micro'))\n",
    "print(precision_score(y_test, y_pred, average=\"macro\"))\n",
    "print(recall_score(y_test, y_pred, average=\"macro\"))\n",
    "print(classification_report(y_test,y_pred))"
   ]
  },
  {
   "cell_type": "code",
   "execution_count": 9,
   "metadata": {},
   "outputs": [
    {
     "data": {
      "text/plain": [
       "<sklearn.metrics._plot.confusion_matrix.ConfusionMatrixDisplay at 0x21e934d1940>"
      ]
     },
     "execution_count": 9,
     "metadata": {},
     "output_type": "execute_result"
    },
    {
     "data": {
      "image/png": "[encoded data removed]",
      "text/plain": [
       "<Figure size 432x288 with 2 Axes>"
      ]
     },
     "metadata": {
      "needs_background": "light"
     },
     "output_type": "display_data"
    }
   ],
   "source": [
    "plot_confusion_matrix(neigh, X_test, y_test)"
   ]
  },
  {
   "cell_type": "code",
   "execution_count": null,
   "metadata": {},
   "outputs": [],
   "source": []
  },
  {
   "cell_type": "code",
   "execution_count": null,
   "metadata": {},
   "outputs": [],
   "source": []
  },
  {
   "cell_type": "code",
   "execution_count": null,
   "metadata": {},
   "outputs": [],
   "source": []
  }
 ],
 "metadata": {
  "kernelspec": {
   "display_name": "Python 3",
   "language": "python",
   "name": "python3"
  },
  "language_info": {
   "codemirror_mode": {
    "name": "ipython",
    "version": 3
   },
   "file_extension": ".py",
   "mimetype": "text/x-python",
   "name": "python",
   "nbconvert_exporter": "python",
   "pygments_lexer": "ipython3",
   "version": "3.8.6"
  }
 },
 "nbformat": 4,
 "nbformat_minor": 4
}
