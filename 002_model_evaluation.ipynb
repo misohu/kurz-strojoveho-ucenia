{
 "cells": [
  {
   "cell_type": "markdown",
   "metadata": {},
   "source": [
    "# Ako porovnávať modely? "
   ]
  },
  {
   "cell_type": "code",
   "execution_count": 1,
   "metadata": {},
   "outputs": [],
   "source": [
    "import pandas as pd \n",
    "\n",
    "from sklearn.neighbors import KNeighborsClassifier\n",
    "from sklearn.model_selection import train_test_split\n",
    "from sklearn.metrics import f1_score, accuracy_score, f1_score, precision_score, recall_score, classification_report, confusion_matrix, plot_confusion_matrix, ConfusionMatrixDisplay"
   ]
  },
  {
   "cell_type": "code",
   "execution_count": 2,
   "metadata": {},
   "outputs": [
    {
     "data": {
      "text/plain": [
       "<sklearn.metrics._plot.confusion_matrix.ConfusionMatrixDisplay at 0x1b79980fee0>"
      ]
     },
     "execution_count": 2,
     "metadata": {},
     "output_type": "execute_result"
    },
    {
     "data": {
      "image/png": "[encoded data removed]",
      "text/plain": [
       "<Figure size 432x288 with 2 Axes>"
      ]
     },
     "metadata": {
      "needs_background": "light"
     },
     "output_type": "display_data"
    }
   ],
   "source": [
    "pred=    [1,1,1,1,1,0,0,0,0,0]\n",
    "reality= [1,0,1,1,1,1,0,0,0,0]\n",
    "\n",
    "\n",
    "cm=confusion_matrix(reality, pred)\n",
    "disp=ConfusionMatrixDisplay(cm)\n",
    "disp.plot()"
   ]
  },
  {
   "cell_type": "markdown",
   "metadata": {},
   "source": [
    "## Vyhodnocovanie predikcie"
   ]
  },
  {
   "cell_type": "markdown",
   "metadata": {},
   "source": [
    "<img src=\"assets/confusion_matrix.png\" width=\"500\" height=\"500\">\n",
    "<img src=\"assets/accuracy.png\" width=\"500\" height=\"500\">\n",
    "<img src=\"assets/precision.png\" width=\"500\" height=\"500\">\n",
    "<img src=\"assets/recall.png\" width=\"500\" height=\"500\">\n",
    "<img src=\"assets/f1_score.png\" width=\"500\" height=\"500\">\n",
    "<img src=\"assets/precision_recall_tradeoff.png\" width=\"500\" height=\"500\">\n",
    "\n",
    "### POZOR!\n",
    "F1 je len harmonický priemer Precision a recall. Problemy: \n",
    "- Preferuje mensie hodnoty pozri menovatel (0x hocico je 0)</br>\n",
    "- Dáva rovnakú váhu precision a recall !!!! môže byť nebezpečné"
   ]
  },
  {
   "cell_type": "code",
   "execution_count": 3,
   "metadata": {},
   "outputs": [
    {
     "name": "stdout",
     "output_type": "stream",
     "text": [
      "              precision    recall  f1-score   support\n",
      "\n",
      "           0       0.80      0.80      0.80         5\n",
      "           1       0.80      0.80      0.80         5\n",
      "\n",
      "    accuracy                           0.80        10\n",
      "   macro avg       0.80      0.80      0.80        10\n",
      "weighted avg       0.80      0.80      0.80        10\n",
      "\n"
     ]
    }
   ],
   "source": [
    "pred=    [1,1,1,1,1,0,0,0,0,0]\n",
    "reality= [1,0,1,1,1,1,0,0,0,0]\n",
    "\n",
    "print(classification_report(reality, pred))"
   ]
  },
  {
   "cell_type": "markdown",
   "metadata": {},
   "source": [
    "# Problém: Čo keď predikujem viac tried?\n",
    "Napríklad chcem predikovať či text na vstupe je písaný po anglicky po česky alebo po rusky?"
   ]
  },
  {
   "cell_type": "code",
   "execution_count": 4,
   "metadata": {},
   "outputs": [
    {
     "data": {
      "text/plain": [
       "<sklearn.metrics._plot.confusion_matrix.ConfusionMatrixDisplay at 0x1b7b4e1fbe0>"
      ]
     },
     "execution_count": 4,
     "metadata": {},
     "output_type": "execute_result"
    },
    {
     "data": {
      "image/png": "[encoded data removed]",
      "text/plain": [
       "<Figure size 432x288 with 2 Axes>"
      ]
     },
     "metadata": {
      "needs_background": "light"
     },
     "output_type": "display_data"
    }
   ],
   "source": [
    "predictions=[1,2,0,1,2,2,3,0,1,2,3,2,0]\n",
    "truth=      [1,0,0,0,2,1,2,3,1,1,3,0,2]\n",
    "\n",
    "cm=confusion_matrix(truth, predictions)\n",
    "disp=ConfusionMatrixDisplay(cm)\n",
    "disp.plot()"
   ]
  },
  {
   "cell_type": "code",
   "execution_count": 5,
   "metadata": {},
   "outputs": [
    {
     "name": "stdout",
     "output_type": "stream",
     "text": [
      "              precision    recall  f1-score   support\n",
      "\n",
      "           0       0.33      0.25      0.29         4\n",
      "           1       0.67      0.50      0.57         4\n",
      "           2       0.20      0.33      0.25         3\n",
      "           3       0.50      0.50      0.50         2\n",
      "\n",
      "    accuracy                           0.38        13\n",
      "   macro avg       0.42      0.40      0.40        13\n",
      "weighted avg       0.43      0.38      0.40        13\n",
      "\n"
     ]
    }
   ],
   "source": [
    "print(classification_report(truth,predictions))"
   ]
  },
  {
   "cell_type": "markdown",
   "metadata": {},
   "source": [
    "Macro je len obycajny priemer"
   ]
  },
  {
   "cell_type": "code",
   "execution_count": 6,
   "metadata": {},
   "outputs": [
    {
     "name": "stdout",
     "output_type": "stream",
     "text": [
      "0.4017857142857143\n",
      "0.425\n",
      "0.3958333333333333\n"
     ]
    }
   ],
   "source": [
    "print(f1_score(truth,predictions, average='macro'))\n",
    "print(precision_score(truth,predictions, average=\"macro\"))\n",
    "print(recall_score(truth,predictions, average=\"macro\"))"
   ]
  },
  {
   "cell_type": "markdown",
   "metadata": {},
   "source": [
    "Weighted je len vážený priemer"
   ]
  },
  {
   "cell_type": "code",
   "execution_count": 7,
   "metadata": {},
   "outputs": [
    {
     "name": "stdout",
     "output_type": "stream",
     "text": [
      "0.3983516483516484\n",
      "0.43076923076923074\n",
      "0.38461538461538464\n"
     ]
    }
   ],
   "source": [
    "print(f1_score(truth,predictions, average='weighted'))\n",
    "print(precision_score(truth,predictions, average=\"weighted\"))\n",
    "print(recall_score(truth,predictions, average=\"weighted\"))"
   ]
  },
  {
   "cell_type": "code",
   "execution_count": 8,
   "metadata": {},
   "outputs": [
    {
     "data": {
      "text/plain": [
       "0.39923076923076917"
      ]
     },
     "execution_count": 8,
     "metadata": {},
     "output_type": "execute_result"
    }
   ],
   "source": [
    "(4*0.29+4*0.57+3*0.25+2*0.50)/13 # vysledok vyssie pracuje s viac desatinnymi cislami"
   ]
  },
  {
   "cell_type": "markdown",
   "metadata": {},
   "source": [
    "Alternativa F1 micro, ktora vyuziva vzorec z vrchu"
   ]
  },
  {
   "cell_type": "code",
   "execution_count": 9,
   "metadata": {},
   "outputs": [
    {
     "data": {
      "text/plain": [
       "0.38461538461538464"
      ]
     },
     "execution_count": 9,
     "metadata": {},
     "output_type": "execute_result"
    }
   ],
   "source": [
    "TP=5 #1+2+1+1\n",
    "FP_plus_FN= 8 #1+2+0+0+2+0+1+0+1+1+0+0\n",
    "TP/(TP+FP_plus_FN)"
   ]
  },
  {
   "cell_type": "markdown",
   "metadata": {},
   "source": [
    "Ked sa nad tym zamyslite potom sa micro precision rovna micro recall a micro f1 score !!!!"
   ]
  },
  {
   "cell_type": "code",
   "execution_count": 10,
   "metadata": {},
   "outputs": [
    {
     "name": "stdout",
     "output_type": "stream",
     "text": [
      "0.38461538461538464\n",
      "0.38461538461538464\n",
      "0.38461538461538464\n"
     ]
    }
   ],
   "source": [
    "print(f1_score(truth,predictions, average='micro'))\n",
    "print(precision_score(truth,predictions, average=\"micro\"))\n",
    "print(recall_score(truth,predictions, average=\"micro\"))"
   ]
  }
 ],
 "metadata": {
  "kernelspec": {
   "display_name": "classification",
   "language": "python",
   "name": "classification"
  },
  "language_info": {
   "codemirror_mode": {
    "name": "ipython",
    "version": 3
   },
   "file_extension": ".py",
   "mimetype": "text/x-python",
   "name": "python",
   "nbconvert_exporter": "python",
   "pygments_lexer": "ipython3",
   "version": "3.8.6"
  }
 },
 "nbformat": 4,
 "nbformat_minor": 4
}
