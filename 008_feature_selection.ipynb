{
 "cells": [
  {
   "cell_type": "code",
   "execution_count": 2,
   "metadata": {},
   "outputs": [],
   "source": [
    "import pandas as pd \n",
    "import numpy as np \n",
    "\n",
    "df = pd.read_csv(\"processed_data/numerical.csv\", index_col=\"EmployeeID\")\n",
    "X = df[df.columns.difference(['Attrition_num'])]\n",
    "y = df['Attrition_num']"
   ]
  },
  {
   "cell_type": "markdown",
   "metadata": {},
   "source": [
    "# Low variance elimination\n",
    "\n",
    "<img src=\"assets/variance.PNG\" width=\"300\" height=\"300\">\n",
    "\n",
    "Vymaž črty (stĺpce) s nízkou varianciou. Celá myšlienka je taká, že stĺpce s nízkou varianciou majú malú pridanú hodnotu pre predikciu.\n",
    "\n",
    "Výhody:\n",
    "- Veľmi ľahká implementácia\n",
    "- Rýchla implementácia \n",
    "- Dá sa aplikovať aj pri algoritmoch učenia bez učiteľa kedy nemáme predikovanú premennú\n",
    "\n",
    "Nevýhody:\n",
    "- Ako nastaviť správnu hodnotu variance treshold?\n",
    "- Problém pri nevyvážených datasetoch kedy stĺpce s nízkou varianciou môžu byť dôležité pre minoritnú triedu\n",
    "- Je dôležité aby boli dáta na rovnakej škále"
   ]
  },
  {
   "cell_type": "code",
   "execution_count": 3,
   "metadata": {},
   "outputs": [
    {
     "data": {
      "text/html": [
       "<div>\n",
       "<style scoped>\n",
       "    .dataframe tbody tr th:only-of-type {\n",
       "        vertical-align: middle;\n",
       "    }\n",
       "\n",
       "    .dataframe tbody tr th {\n",
       "        vertical-align: top;\n",
       "    }\n",
       "\n",
       "    .dataframe thead th {\n",
       "        text-align: right;\n",
       "    }\n",
       "</style>\n",
       "<table border=\"1\" class=\"dataframe\">\n",
       "  <thead>\n",
       "    <tr style=\"text-align: right;\">\n",
       "      <th></th>\n",
       "      <th>0</th>\n",
       "      <th>1</th>\n",
       "      <th>2</th>\n",
       "      <th>3</th>\n",
       "    </tr>\n",
       "  </thead>\n",
       "  <tbody>\n",
       "    <tr>\n",
       "      <th>0</th>\n",
       "      <td>0</td>\n",
       "      <td>2</td>\n",
       "      <td>0</td>\n",
       "      <td>3</td>\n",
       "    </tr>\n",
       "    <tr>\n",
       "      <th>1</th>\n",
       "      <td>0</td>\n",
       "      <td>1</td>\n",
       "      <td>4</td>\n",
       "      <td>3</td>\n",
       "    </tr>\n",
       "    <tr>\n",
       "      <th>2</th>\n",
       "      <td>0</td>\n",
       "      <td>1</td>\n",
       "      <td>1</td>\n",
       "      <td>3</td>\n",
       "    </tr>\n",
       "  </tbody>\n",
       "</table>\n",
       "</div>"
      ],
      "text/plain": [
       "   0  1  2  3\n",
       "0  0  2  0  3\n",
       "1  0  1  4  3\n",
       "2  0  1  1  3"
      ]
     },
     "execution_count": 3,
     "metadata": {},
     "output_type": "execute_result"
    }
   ],
   "source": [
    "# Viac si precitate sem \n",
    "# https://scikit-learn.org/stable/modules/generated/sklearn.feature_selection.VarianceThreshold.html#sklearn.feature_selection.VarianceThreshold\n",
    "data = [[0, 2, 0, 3], [0, 1, 4, 3], [0, 1, 1, 3]]\n",
    "temp_df=pd.DataFrame(data)\n",
    "temp_df"
   ]
  },
  {
   "cell_type": "code",
   "execution_count": 4,
   "metadata": {},
   "outputs": [
    {
     "data": {
      "text/plain": [
       "0.0"
      ]
     },
     "execution_count": 4,
     "metadata": {},
     "output_type": "execute_result"
    }
   ],
   "source": [
    "temp_df[0].var()"
   ]
  },
  {
   "cell_type": "code",
   "execution_count": 5,
   "metadata": {},
   "outputs": [
    {
     "name": "stdout",
     "output_type": "stream",
     "text": [
      "(4382, 13)\n"
     ]
    },
    {
     "data": {
      "text/plain": [
       "(4382, 7)"
      ]
     },
     "execution_count": 5,
     "metadata": {},
     "output_type": "execute_result"
    }
   ],
   "source": [
    "from sklearn.feature_selection import VarianceThreshold\n",
    "from sklearn.preprocessing import MinMaxScaler\n",
    "\n",
    "scaler = MinMaxScaler()\n",
    "variance = VarianceThreshold(threshold=.05)\n",
    "\n",
    "X_scaled = scaler.fit_transform(X)\n",
    "print(X_scaled.shape)\n",
    "X_selected = variance.fit_transform(X_scaled)\n",
    "X_selected.shape"
   ]
  },
  {
   "cell_type": "code",
   "execution_count": 6,
   "metadata": {},
   "outputs": [
    {
     "data": {
      "text/plain": [
       "Age                        0.047330\n",
       "DistanceFromHome           0.083798\n",
       "Education                  0.065629\n",
       "JobLevel                   0.076468\n",
       "MonthlyIncome              0.061627\n",
       "NumCompaniesWorked         0.077027\n",
       "PercentSalaryHike          0.068457\n",
       "StockOptionLevel           0.080731\n",
       "TotalWorkingYears          0.037886\n",
       "TrainingTimesLastYear      0.046182\n",
       "YearsAtCompany             0.023481\n",
       "YearsSinceLastPromotion    0.046225\n",
       "YearsWithCurrManager       0.044092\n",
       "dtype: float64"
      ]
     },
     "execution_count": 6,
     "metadata": {},
     "output_type": "execute_result"
    }
   ],
   "source": [
    "pd.DataFrame(X_scaled,columns=list(X.columns)).var()"
   ]
  },
  {
   "cell_type": "markdown",
   "metadata": {},
   "source": [
    "# Univariate feature selection\n",
    "Výber tých čŕt, ktoré majú najsilnejší vzťah s predikovanou premennou. Vzťah vyjadríme pomocou štatistického testu. Poznáme rôzne druhy štatistických testov, ktoré vieme použiť v závislosti od typu stĺpca a vlastností stĺpca. \n",
    "\n",
    "Výhody:\n",
    "- Veľmi ľahká implementácia\n",
    "- Rýchla implementácia \n",
    "\n",
    "Nevýhody:\n",
    "- Je potrebná predikovaná premenná (nevhodné pre unsupervised algoritmi)\n",
    "- Je pouzitelna pre samostatne premenne (existuju pristupy aj pre kombinovane premenne)\n",
    "- Je potrebna rovnaka skala dat\n",
    "- Problem vybrat spravny test\n",
    "- Ako vybrat spravne k?\n",
    "\n",
    "V prípade spojiných premenných použijeme ANOVA f-test [pekné vysvetlenie sem](https://datascience.stackexchange.com/questions/74465/how-to-understand-anova-f-for-feature-selection-in-python-sklearn-selectkbest-w)\n",
    "V pripace kategorických atribútov sa použíje chi2 test [pekné vysvetlenie sem](https://towardsdatascience.com/chi-square-test-for-feature-selection-in-machine-learning-206b1f0b8223)"
   ]
  },
  {
   "cell_type": "code",
   "execution_count": 7,
   "metadata": {},
   "outputs": [
    {
     "name": "stdout",
     "output_type": "stream",
     "text": [
      "(4382, 13)\n"
     ]
    },
    {
     "data": {
      "text/plain": [
       "(4382, 4)"
      ]
     },
     "execution_count": 7,
     "metadata": {},
     "output_type": "execute_result"
    }
   ],
   "source": [
    "from sklearn.feature_selection import SelectKBest\n",
    "from sklearn.feature_selection import chi2, f_classif\n",
    "\n",
    "scaler = MinMaxScaler()\n",
    "feature_selection = SelectKBest(f_classif, k=4)\n",
    "\n",
    "X_scaled = scaler.fit_transform(X)\n",
    "print(X_scaled.shape)\n",
    "X_selected = feature_selection.fit_transform(X_scaled, y)\n",
    "X_selected.shape"
   ]
  },
  {
   "cell_type": "markdown",
   "metadata": {},
   "source": [
    "# Recursive feature elimination (RFE)\n",
    "Táto technika používa externý prediktor na to aby určila ako veĺmi sú dôležité črty pre predikciu. Postup algoritmu (veľmi zjednodušene):\n",
    "- Začneme so všetkými črtami a pomocou externého prediktoru zbehneme klasifikáciu zapíšeme úspešnosť klasifikácie.\n",
    "- Pozrieme sa na dôležitosť jednotlivých čŕt pri klasifikácii a eleminujeme tú čo najmenej prispieva.\n",
    "- Proces opakujeme do vtedy pokiaľ sa úspešnosť predikcie zlepšuje\n",
    "\n",
    "Výhody:\n",
    "- Veľmi populárne a hlavne úspešné riešenie \n",
    "\n",
    "Nevýhody \n",
    "- Veľmi pomalé riešenie: je potrebné natrénovať extery klasifikátor púre každú iteráciu\n",
    "- Je potrebné zvoliť externý klasifikátor, ktorý vie poskynúť dôležitosť čŕt po trénovaní."
   ]
  },
  {
   "cell_type": "code",
   "execution_count": 8,
   "metadata": {},
   "outputs": [
    {
     "name": "stdout",
     "output_type": "stream",
     "text": [
      "(4382, 13)\n",
      "[ True False False False False  True False False  True  True False  True\n",
      "  True]\n",
      "[1 8 3 7 2 1 5 6 1 1 4 1 1]\n"
     ]
    },
    {
     "data": {
      "text/plain": [
       "(4382, 6)"
      ]
     },
     "execution_count": 8,
     "metadata": {},
     "output_type": "execute_result"
    }
   ],
   "source": [
    "from sklearn.feature_selection import RFE\n",
    "from sklearn.linear_model import LogisticRegression\n",
    "\n",
    "print(X.shape)\n",
    "scaler = MinMaxScaler()\n",
    "feature_selection = RFE(LogisticRegression())\n",
    "\n",
    "X_scaled = scaler.fit_transform(X)\n",
    "feature_selection = feature_selection.fit(X_scaled, y)\n",
    "\n",
    "print(feature_selection.support_)\n",
    "print(feature_selection.ranking_)\n",
    "\n",
    "X_selected = feature_selection.transform(X_scaled)\n",
    "X_selected.shape"
   ]
  },
  {
   "cell_type": "code",
   "execution_count": 9,
   "metadata": {},
   "outputs": [
    {
     "data": {
      "text/plain": [
       "Index(['Age', 'DistanceFromHome', 'Education', 'JobLevel', 'MonthlyIncome',\n",
       "       'NumCompaniesWorked', 'PercentSalaryHike', 'StockOptionLevel',\n",
       "       'TotalWorkingYears', 'TrainingTimesLastYear', 'YearsAtCompany',\n",
       "       'YearsSinceLastPromotion', 'YearsWithCurrManager'],\n",
       "      dtype='object')"
      ]
     },
     "execution_count": 9,
     "metadata": {},
     "output_type": "execute_result"
    }
   ],
   "source": [
    "X.columns"
   ]
  }
 ],
 "metadata": {
  "kernelspec": {
   "display_name": "classification",
   "language": "python",
   "name": "classification"
  },
  "language_info": {
   "codemirror_mode": {
    "name": "ipython",
    "version": 3
   },
   "file_extension": ".py",
   "mimetype": "text/x-python",
   "name": "python",
   "nbconvert_exporter": "python",
   "pygments_lexer": "ipython3",
   "version": "3.8.6"
  }
 },
 "nbformat": 4,
 "nbformat_minor": 4
}
